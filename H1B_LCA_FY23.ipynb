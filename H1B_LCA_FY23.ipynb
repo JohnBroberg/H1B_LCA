{
 "cells": [
  {
   "cell_type": "code",
   "execution_count": null,
   "id": "6bf9c125",
   "metadata": {},
   "outputs": [],
   "source": [
    "# H1B Labor Condition Applications (Form ETA-9035) "
   ]
  },
  {
   "cell_type": "code",
   "execution_count": 1,
   "id": "eba14c01",
   "metadata": {},
   "outputs": [],
   "source": [
    "# H1B Labor Condition Applications (Form ETA-9035)\n",
    "\n",
    "# http://econdataus.com/h1bdata.htm\n",
    "\n",
    "#source: US Department of Labor\n",
    "#https://www.dol.gov/agencies/eta/foreign-labor/performance\n",
    "\n",
    "#source: US Bureau of Labor Statistics \n",
    "#https://www.bls.gov/oes/tables.htm\n",
    "\n",
    "# metadata: lca_cols\n",
    "# https://www.dol.gov/sites/dolgov/files/ETA/oflc/pdfs/LCA_Record_Layout_FY2022_Q3.pdf\n",
    "\n",
    "# DOL Guidance on Determining OES Wage Levels\n",
    "# https://www.aila.org/infonet/dol-guidance-on-determining-oes-wage-levels\n",
    "\n",
    "# \n",
    "# https://www.dol.gov/sites/doPrevailing Wage Determination Policy Guidancelgov/files/ETA/oflc/pdfs/Policy_Nonag_Progs.pdf\n",
    "\n",
    "# git pull https://github.com/JohnBroberg/H1B_LCA.git\n",
    "\n",
    "import pandas as pd\n",
    "import numpy as np\n",
    "import matplotlib.pyplot as plt\n"
   ]
  },
  {
   "cell_type": "markdown",
   "id": "4f27023b",
   "metadata": {},
   "source": [
    "## global variables"
   ]
  },
  {
   "cell_type": "code",
   "execution_count": 2,
   "id": "fc22f38c",
   "metadata": {},
   "outputs": [],
   "source": [
    "\n",
    "#columns to be read from LCA Excel file\n",
    "lca_cols = ['CASE_NUMBER','CASE_STATUS', 'RECEIVED_DATE', 'DECISION_DATE', 'ORIGINAL_CERT_DATE'\n",
    "           , 'VISA_CLASS', 'SOC_CODE', 'SOC_TITLE', 'FULL_TIME_POSITION'\n",
    "           , 'TOTAL_WORKER_POSITIONS', 'EMPLOYER_NAME', 'NAICS_CODE', 'WORKSITE_WORKERS'\n",
    "           , 'SECONDARY_ENTITY', 'SECONDARY_ENTITY_BUSINESS_NAME', 'WORKSITE_STATE'\n",
    "           , 'WAGE_RATE_OF_PAY_FROM', 'WAGE_RATE_OF_PAY_TO', 'WAGE_UNIT_OF_PAY'\n",
    "           , 'PREVAILING_WAGE', 'PW_UNIT_OF_PAY', 'PW_WAGE_LEVEL']\n",
    "#           , 'PW_OES_YEAR', 'PW_OTHER_SOURCE', 'PW_OTHER_YEAR', 'PW_SURVEY_PUBLISHER', 'PW_SURVEY_NAME']\n",
    "\n"
   ]
  },
  {
   "cell_type": "markdown",
   "id": "20e5c8f9",
   "metadata": {},
   "source": [
    "# Fiscal Year 2023"
   ]
  },
  {
   "cell_type": "code",
   "execution_count": null,
   "id": "758ac611",
   "metadata": {},
   "outputs": [],
   "source": [
    "# Download LCA_Disclosure_Data_FY2022_Q4.xlsx\n",
    "\n",
    "df23 = pd.read_excel(\"https://www.dol.gov/sites/dolgov/files/ETA/oflc/pdfs/LCA_Disclosure_Data_FY2023_Q2.xlsx\"\n",
    "                  , usecols = lca_cols)\n",
    "#                  , index_col = None)\n",
    "\n",
    "df23 = df23[(df23['VISA_CLASS']=='H-1B') & \\\n",
    "        (df23['FULL_TIME_POSITION']=='Y')]\n",
    "\n",
    "df23"
   ]
  },
  {
   "cell_type": "code",
   "execution_count": null,
   "id": "5d2d195c",
   "metadata": {},
   "outputs": [],
   "source": [
    "min(df23['DECISION_DATE'])"
   ]
  },
  {
   "cell_type": "code",
   "execution_count": null,
   "id": "3a8544f7",
   "metadata": {},
   "outputs": [],
   "source": [
    "max(df23['DECISION_DATE'])"
   ]
  },
  {
   "cell_type": "code",
   "execution_count": null,
   "id": "83694020",
   "metadata": {},
   "outputs": [],
   "source": []
  },
  {
   "cell_type": "code",
   "execution_count": null,
   "id": "6c032484",
   "metadata": {},
   "outputs": [],
   "source": []
  },
  {
   "cell_type": "code",
   "execution_count": null,
   "id": "ccb46f8a",
   "metadata": {},
   "outputs": [],
   "source": []
  },
  {
   "cell_type": "code",
   "execution_count": null,
   "id": "511fab74",
   "metadata": {},
   "outputs": [],
   "source": [
    "# no duplicate rows\n",
    "len(df23)-len(df23.drop_duplicates())"
   ]
  },
  {
   "cell_type": "code",
   "execution_count": null,
   "id": "aae07bbb",
   "metadata": {},
   "outputs": [],
   "source": [
    "# no duplicate Case Numbers\n",
    "len(df23['CASE_NUMBER'])-len(df23['CASE_NUMBER'].drop_duplicates())"
   ]
  },
  {
   "cell_type": "code",
   "execution_count": null,
   "id": "719e2bff",
   "metadata": {},
   "outputs": [],
   "source": [
    "# remove duplcate cases, keeping row with latest Decision Date\n",
    "\n",
    "#df23 = df23.sort_values(['CASE_NUMBER', 'DECISION_DATE'], ascending = False) \\\n",
    "#    .drop_duplicates(subset = 'CASE_NUMBER', keep = 'first', ignore_index = True)"
   ]
  },
  {
   "cell_type": "code",
   "execution_count": null,
   "id": "e05b695b",
   "metadata": {},
   "outputs": [],
   "source": [
    "#len(df23['CASE_NUMBER'])-len(df23['CASE_NUMBER'].drop_duplicates())"
   ]
  },
  {
   "cell_type": "code",
   "execution_count": null,
   "id": "3f56d4c2",
   "metadata": {},
   "outputs": [],
   "source": [
    "#dup = df23[df23.duplicated(['CASE_NUMBER'], keep = False)]\\\n",
    "    .sort_values(['CASE_NUMBER', 'DECISION_DATE'], ascending = False)\n",
    "\n",
    "#dup"
   ]
  },
  {
   "cell_type": "code",
   "execution_count": null,
   "id": "84073f75",
   "metadata": {},
   "outputs": [],
   "source": [
    "df23.info()"
   ]
  },
  {
   "cell_type": "code",
   "execution_count": null,
   "id": "70b091fb",
   "metadata": {},
   "outputs": [],
   "source": []
  },
  {
   "cell_type": "code",
   "execution_count": null,
   "id": "282b70c1",
   "metadata": {},
   "outputs": [],
   "source": [
    "# Add WORKSITE_EMPLOYER column\n",
    "\n",
    "df23['WORKSITE_EMPLOYER'] = df23['EMPLOYER_NAME']\n",
    "df23.loc[df23['SECONDARY_ENTITY'] == 'Yes', 'WORKSITE_EMPLOYER'] = df23['SECONDARY_ENTITY_BUSINESS_NAME']\n",
    "\n",
    "df23[['EMPLOYER_NAME','SECONDARY_ENTITY_BUSINESS_NAME','WORKSITE_EMPLOYER']]"
   ]
  },
  {
   "cell_type": "code",
   "execution_count": null,
   "id": "3c051628",
   "metadata": {},
   "outputs": [],
   "source": [
    "df23['WORKSITE_EMPLOYER'] = df23['WORKSITE_EMPLOYER'].str.upper()\n",
    "df23['WORKSITE_EMPLOYER']"
   ]
  },
  {
   "cell_type": "code",
   "execution_count": null,
   "id": "6e208bf3",
   "metadata": {},
   "outputs": [],
   "source": [
    "# Facebook changes company name to Meta\n",
    "# https://www.cnbc.com/2021/10/28/facebook-changes-company-name-to-meta.html\n",
    "\n",
    "dict_emp = {'FACEBOOK INC':'META PLATFORMS INC'\n",
    "                , 'AMAZON CORPORATE LLC':'AMAZON COM SERVICES LLC'\n",
    "                , 'AMAZON WEB SERVICES INC':'AMAZON COM SERVICES LLC'\n",
    "                , 'AMAZON.COM SERVICES LLC':'AMAZON COM SERVICES LLC'\n",
    "                , 'AMAZON.COM SERVICES INC':'AMAZON COM SERVICES LLC'\n",
    "                , 'AMAZON FULFILLMENT SERVICES INC':'AMAZON COM SERVICES LLC'\n",
    "                , 'AMAZON DEVELOPMENT CENTER US INC':'AMAZON COM SERVICES LLC'\n",
    "                , 'AMAZON DATA SERVICES INC':'AMAZON COM SERVICES LLC'\n",
    "                    , 'GOOGLE INC':'GOOGLE LLC'\n",
    "           }\n",
    "\n",
    "df23.WORKSITE_EMPLOYER = df23.WORKSITE_EMPLOYER.replace(dict_emp)  "
   ]
  },
  {
   "cell_type": "code",
   "execution_count": null,
   "id": "73427c2f",
   "metadata": {},
   "outputs": [],
   "source": [
    "\n",
    "# Fill in missing values with an empty string\n",
    "df23['WORKSITE_EMPLOYER'] = df23['WORKSITE_EMPLOYER'].fillna('')\n",
    "\n",
    "# Replace values in the 'WORKSITE_EMPLOYER' column based on condition contains('FACEBOOK')\n",
    "mask = df23['WORKSITE_EMPLOYER'].str.contains('FACEBOOK')\n",
    "df23.loc[mask, 'WORKSITE_EMPLOYER'] = 'META PLATFORMS INC'"
   ]
  },
  {
   "cell_type": "code",
   "execution_count": null,
   "id": "2e7cf902",
   "metadata": {},
   "outputs": [],
   "source": [
    "df23"
   ]
  },
  {
   "cell_type": "code",
   "execution_count": null,
   "id": "e49102fd",
   "metadata": {},
   "outputs": [],
   "source": [
    "df23['WORKSITE_EMPLOYER']=='META PLATFORMS INC'"
   ]
  },
  {
   "cell_type": "code",
   "execution_count": null,
   "id": "5b0543d6",
   "metadata": {},
   "outputs": [],
   "source": []
  },
  {
   "cell_type": "code",
   "execution_count": null,
   "id": "077bf1fe",
   "metadata": {},
   "outputs": [],
   "source": []
  },
  {
   "cell_type": "code",
   "execution_count": null,
   "id": "27d8e0d7",
   "metadata": {},
   "outputs": [],
   "source": []
  },
  {
   "cell_type": "code",
   "execution_count": null,
   "id": "070a5f3c",
   "metadata": {},
   "outputs": [],
   "source": [
    "#df23['WAGE_UNIT_OF_PAY'].unique()\n"
   ]
  },
  {
   "cell_type": "code",
   "execution_count": null,
   "id": "a559928c",
   "metadata": {},
   "outputs": [],
   "source": [
    "#df23['PW_UNIT_OF_PAY'].unique()"
   ]
  },
  {
   "cell_type": "code",
   "execution_count": null,
   "id": "9ef7a01c",
   "metadata": {},
   "outputs": [],
   "source": [
    "# Add WAGE_RATE_OF_PAY_FROM_YR column\n",
    "\n",
    "# df23['WAGE_RATE_OF_PAY_FROM_YR'] = df23['WAGE_RATE_OF_PAY_FROM']\n",
    "# df23.loc[df23['WAGE_UNIT_OF_PAY'] == 'Hour', 'WAGE_RATE_OF_PAY_FROM_YR'] = df23.WAGE_RATE_OF_PAY_FROM * 2000\n",
    "# df23.loc[df23['WAGE_UNIT_OF_PAY'] == 'Month', 'WAGE_RATE_OF_PAY_FROM_YR'] = df23.WAGE_RATE_OF_PAY_FROM * 12\n",
    "# df23.loc[df23['WAGE_UNIT_OF_PAY'] == 'Week', 'WAGE_RATE_OF_PAY_FROM_YR'] = df23.WAGE_RATE_OF_PAY_FROM * 50\n",
    "# df23.loc[df23['WAGE_UNIT_OF_PAY'] == 'Bi-Weekly', 'WAGE_RATE_OF_PAY_FROM_YR'] = df23.WAGE_RATE_OF_PAY_FROM * 25\n",
    "\n",
    "\n",
    "# # Add PREVAILING_WAGE_YR column\n",
    "\n",
    "# df23['PREVAILING_WAGE_YR'] = df23['PREVAILING_WAGE']\n",
    "# df23.loc[df23['PW_UNIT_OF_PAY'] == 'Hour', 'PREVAILING_WAGE_YR'] = df23.PREVAILING_WAGE * 2000\n",
    "# df23.loc[df23['PW_UNIT_OF_PAY'] == 'Month', 'PREVAILING_WAGE_YR'] = df23.PREVAILING_WAGE * 12\n",
    "# df23.loc[df23['PW_UNIT_OF_PAY'] == 'Week', 'PREVAILING_WAGE_YR'] = df23.PREVAILING_WAGE * 50\n",
    "# df23.loc[df23['PW_UNIT_OF_PAY'] == 'Bi-Weekly', 'PREVAILING_WAGE_YR'] = df23.PREVAILING_WAGE * 25\n",
    "\n",
    "# # Add WAGE_DIFF column\n",
    "\n",
    "# df23['WAGE_DIFF'] = (df23.WAGE_RATE_OF_PAY_FROM_YR- df23.PREVAILING_WAGE_YR)/df23.PREVAILING_WAGE_YR\n",
    "\n",
    "# df23[['WAGE_RATE_OF_PAY_FROM', 'WAGE_UNIT_OF_PAY'\n",
    "#       , 'PREVAILING_WAGE', 'PW_UNIT_OF_PAY'\n",
    "#       , 'WAGE_RATE_OF_PAY_FROM_YR', 'PREVAILING_WAGE_YR', 'WAGE_DIFF']]\n"
   ]
  },
  {
   "cell_type": "code",
   "execution_count": null,
   "id": "fcbe2103",
   "metadata": {},
   "outputs": [],
   "source": [
    "# df23['WAGE_DIFF'].max()"
   ]
  },
  {
   "cell_type": "code",
   "execution_count": null,
   "id": "2e83cd51",
   "metadata": {},
   "outputs": [],
   "source": [
    "# df23['WAGE_DIFF'].min()"
   ]
  },
  {
   "cell_type": "code",
   "execution_count": null,
   "id": "34e99181",
   "metadata": {},
   "outputs": [],
   "source": [
    "# len(df23[df23['WAGE_DIFF'] < 0])"
   ]
  },
  {
   "cell_type": "code",
   "execution_count": null,
   "id": "473a15dd",
   "metadata": {},
   "outputs": [],
   "source": [
    "rslt_df = df23[df23['WAGE_UNIT_OF_PAY'] == 'Year'] \n",
    "rslt_df"
   ]
  },
  {
   "cell_type": "code",
   "execution_count": null,
   "id": "dedbe419",
   "metadata": {},
   "outputs": [],
   "source": [
    "# len(rslt_df[rslt_df['WAGE_DIFF'] < 0])"
   ]
  },
  {
   "cell_type": "code",
   "execution_count": null,
   "id": "3c03f704",
   "metadata": {},
   "outputs": [],
   "source": [
    "# rslt_df = rslt_df['WAGE_DIFF']\n",
    "# rslt_df.hist(bins = 1000)"
   ]
  },
  {
   "cell_type": "code",
   "execution_count": null,
   "id": "37115892",
   "metadata": {},
   "outputs": [],
   "source": []
  },
  {
   "cell_type": "code",
   "execution_count": null,
   "id": "8c2e9f97",
   "metadata": {},
   "outputs": [],
   "source": [
    "df23.info()"
   ]
  },
  {
   "cell_type": "code",
   "execution_count": null,
   "id": "eb73f049",
   "metadata": {},
   "outputs": [],
   "source": [
    "df23['PW_WAGE_LEVEL'].unique()"
   ]
  },
  {
   "cell_type": "code",
   "execution_count": null,
   "id": "d1b4b104",
   "metadata": {},
   "outputs": [],
   "source": [
    "min(df23['DECISION_DATE'])"
   ]
  },
  {
   "cell_type": "code",
   "execution_count": null,
   "id": "2b8d20a9",
   "metadata": {},
   "outputs": [],
   "source": [
    "max(df23['DECISION_DATE'])"
   ]
  },
  {
   "cell_type": "code",
   "execution_count": null,
   "id": "39268a99",
   "metadata": {},
   "outputs": [],
   "source": [
    "len(df23)-len(df23.drop_duplicates())"
   ]
  },
  {
   "cell_type": "code",
   "execution_count": null,
   "id": "e8e6be34",
   "metadata": {},
   "outputs": [],
   "source": [
    "len(df23['CASE_NUMBER'])-len(df23['CASE_NUMBER'].drop_duplicates())"
   ]
  },
  {
   "cell_type": "code",
   "execution_count": null,
   "id": "7b527270",
   "metadata": {},
   "outputs": [],
   "source": [
    "# Export df to compressed .csv\n",
    "\n",
    "compression_opts = dict(method='zip', archive_name='h1b_lca_fy22.csv')  \n",
    "\n",
    "# df23.to_csv('h1b_lca_fy22_data.zip', index=False, compression=compression_opts)  "
   ]
  },
  {
   "cell_type": "code",
   "execution_count": null,
   "id": "41f2a19a",
   "metadata": {},
   "outputs": [],
   "source": [
    "df23"
   ]
  },
  {
   "cell_type": "code",
   "execution_count": null,
   "id": "ccc593f4",
   "metadata": {},
   "outputs": [],
   "source": []
  }
 ],
 "metadata": {
  "kernelspec": {
   "display_name": "Python 3 (ipykernel)",
   "language": "python",
   "name": "python3"
  },
  "language_info": {
   "codemirror_mode": {
    "name": "ipython",
    "version": 3
   },
   "file_extension": ".py",
   "mimetype": "text/x-python",
   "name": "python",
   "nbconvert_exporter": "python",
   "pygments_lexer": "ipython3",
   "version": "3.9.15"
  }
 },
 "nbformat": 4,
 "nbformat_minor": 5
}
