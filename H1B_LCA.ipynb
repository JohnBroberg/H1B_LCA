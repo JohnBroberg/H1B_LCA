{
 "cells": [
  {
   "cell_type": "code",
   "execution_count": null,
   "id": "eba14c01",
   "metadata": {},
   "outputs": [],
   "source": [
    "# H1B Labor Condition Applications (Form ETA-9035)\n",
    "\n",
    "# http://econdataus.com/h1bdata.htm\n",
    "\n",
    "#source: US Department of Labor\n",
    "#https://www.dol.gov/agencies/eta/foreign-labor/performance\n",
    "\n",
    "# metadata:\n",
    "# https://www.dol.gov/sites/dolgov/files/ETA/oflc/pdfs/LCA_Record_Layout_FY2022_Q3.pdf\n",
    "\n",
    "# git pull https://github.com/JohnBroberg/H1B_LCA.git"
   ]
  }
 ],
 "metadata": {
  "kernelspec": {
   "display_name": "Python 3 (ipykernel)",
   "language": "python",
   "name": "python3"
  },
  "language_info": {
   "codemirror_mode": {
    "name": "ipython",
    "version": 3
   },
   "file_extension": ".py",
   "mimetype": "text/x-python",
   "name": "python",
   "nbconvert_exporter": "python",
   "pygments_lexer": "ipython3",
   "version": "3.9.12"
  }
 },
 "nbformat": 4,
 "nbformat_minor": 5
}
